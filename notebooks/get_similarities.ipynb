{
 "cells": [
  {
   "cell_type": "code",
   "execution_count": 1,
   "metadata": {},
   "outputs": [
    {
     "name": "stderr",
     "output_type": "stream",
     "text": [
      "2023-11-09 12:05:50,406 INFO: [vectordb:__init__] Vector DB initialized: 3227 drug | 2 target\n",
      "2023-11-09 12:05:50,642 INFO: [vectordb:__init__] Vector DB initialized: 3227 drug | 2 target\n",
      "2023-11-09 12:05:50,863 INFO: [vectordb:__init__] Vector DB initialized: 3227 drug | 2 target\n"
     ]
    }
   ],
   "source": [
    "from src.vectordb import init_vectordb\n",
    "\n",
    "vectordb = init_vectordb(recreate=False)"
   ]
  },
  {
   "cell_type": "code",
   "execution_count": 9,
   "metadata": {},
   "outputs": [
    {
     "name": "stdout",
     "output_type": "stream",
     "text": [
      "CHEMBL.COMPOUND:CHEMBL1201341: 76.82704 (1373)\n",
      "CHEMBL.COMPOUND:CHEMBL1200367: 68.16783 (2143)\n",
      "CHEMBL.COMPOUND:CHEMBL964: 61.95427 (949)\n",
      "CHEMBL.COMPOUND:CHEMBL965: 59.028526 (574)\n",
      "CHEMBL.COMPOUND:CHEMBL95889: 56.520775 (2388)\n",
      "CHEMBL.COMPOUND:CHEMBL703: 55.445698 (1737)\n",
      "CHEMBL.COMPOUND:CHEMBL1025: 54.16002 (264)\n",
      "CHEMBL.COMPOUND:CHEMBL667: 53.477932 (289)\n",
      "CHEMBL.COMPOUND:CHEMBL14: 51.91638 (1702)\n",
      "CHEMBL.COMPOUND:CHEMBL978: 51.00777 (643)\n"
     ]
    }
   ],
   "source": [
    "# drug_id = \"PUBCHEM.COMPOUND:5329102\"\n",
    "drug_id = \"CHEMBL.COMPOUND:CHEMBL1201341\"\n",
    "\n",
    "drugs_matching = vectordb.get(\"drug\", drug_id)\n",
    "search_res = vectordb.search(\"drug\", drugs_matching[0].vector)\n",
    "\n",
    "for res in search_res:\n",
    "    print(f\"{res.payload['id']}: {res.score} ({res.id})\")"
   ]
  }
 ],
 "metadata": {
  "kernelspec": {
   "display_name": "Python 3",
   "language": "python",
   "name": "python3"
  },
  "language_info": {
   "codemirror_mode": {
    "name": "ipython",
    "version": 3
   },
   "file_extension": ".py",
   "mimetype": "text/x-python",
   "name": "python",
   "nbconvert_exporter": "python",
   "pygments_lexer": "ipython3",
   "version": "3.10.12"
  }
 },
 "nbformat": 4,
 "nbformat_minor": 2
}
