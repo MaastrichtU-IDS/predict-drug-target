{
 "cells": [
  {
   "cell_type": "code",
   "execution_count": 1,
   "metadata": {},
   "outputs": [],
   "source": [
    "import csv\n",
    "import numpy as np\n",
    "import sys\n",
    "import pandas as pd\n",
    "import itertools\n",
    "import math\n",
    "import time\n",
    "\n",
    "from sklearn import svm, linear_model, neighbors\n",
    "from sklearn import tree, ensemble\n",
    "from sklearn import metrics\n",
    "from sklearn.naive_bayes import GaussianNB\n",
    "\n",
    "import networkx as nx\n",
    "import random\n",
    "import numbers\n",
    "\n",
    "from sklearn.model_selection import StratifiedKFold\n",
    "\n",
    "from src import ml"
   ]
  },
  {
   "cell_type": "code",
   "execution_count": 2,
   "metadata": {},
   "outputs": [],
   "source": [
    "import findspark\n",
    "findspark.init()\n",
    "\n",
    "from pyspark import SparkConf, SparkContext"
   ]
  },
  {
   "cell_type": "code",
   "execution_count": 3,
   "metadata": {},
   "outputs": [
    {
     "name": "stderr",
     "output_type": "stream",
     "text": [
      "your 131072x1 screen size is bogus. expect trouble\n",
      "23/09/05 11:12:11 WARN Utils: Your hostname, Rz resolves to a loopback address: 127.0.1.1; using 172.17.110.41 instead (on interface eth0)\n",
      "23/09/05 11:12:11 WARN Utils: Set SPARK_LOCAL_IP if you need to bind to another address\n",
      "Setting default log level to \"WARN\".\n",
      "To adjust logging level use sc.setLogLevel(newLevel). For SparkR, use setLogLevel(newLevel).\n",
      "23/09/05 11:12:13 WARN NativeCodeLoader: Unable to load native-hadoop library for your platform... using builtin-java classes where applicable\n"
     ]
    },
    {
     "name": "stdout",
     "output_type": "stream",
     "text": [
      "<SparkContext master=local appName=pyspark-shell>\n"
     ]
    }
   ],
   "source": [
    "if False: \n",
    "    sc.stop()\n",
    "\n",
    "config = SparkConf()\n",
    "config.setMaster(\"local\")\n",
    "config.set(\"spark.executor.memory\", \"15g\")\n",
    "config.set('spark.driver.memory', '20g')\n",
    "config.set(\"spark.memory.offHeap.enabled\",True)\n",
    "config.set(\"spark.memory.offHeap.size\",\"15g\") \n",
    "sc = SparkContext(conf=config)\n",
    "print (sc)"
   ]
  },
  {
   "cell_type": "markdown",
   "metadata": {},
   "source": [
    "# DRUGBANK 4.0"
   ]
  },
  {
   "cell_type": "code",
   "execution_count": 4,
   "metadata": {},
   "outputs": [
    {
     "data": {
      "text/html": [
       "<div>\n",
       "<style scoped>\n",
       "    .dataframe tbody tr th:only-of-type {\n",
       "        vertical-align: middle;\n",
       "    }\n",
       "\n",
       "    .dataframe tbody tr th {\n",
       "        vertical-align: top;\n",
       "    }\n",
       "\n",
       "    .dataframe thead th {\n",
       "        text-align: right;\n",
       "    }\n",
       "</style>\n",
       "<table border=\"1\" class=\"dataframe\">\n",
       "  <thead>\n",
       "    <tr style=\"text-align: right;\">\n",
       "      <th></th>\n",
       "      <th>Drug1</th>\n",
       "      <th>Drug2</th>\n",
       "    </tr>\n",
       "  </thead>\n",
       "  <tbody>\n",
       "    <tr>\n",
       "      <th>0</th>\n",
       "      <td>DB00005</td>\n",
       "      <td>DB00026</td>\n",
       "    </tr>\n",
       "    <tr>\n",
       "      <th>1</th>\n",
       "      <td>DB00026</td>\n",
       "      <td>DB00005</td>\n",
       "    </tr>\n",
       "    <tr>\n",
       "      <th>2</th>\n",
       "      <td>DB00005</td>\n",
       "      <td>DB00065</td>\n",
       "    </tr>\n",
       "    <tr>\n",
       "      <th>3</th>\n",
       "      <td>DB00065</td>\n",
       "      <td>DB00005</td>\n",
       "    </tr>\n",
       "    <tr>\n",
       "      <th>4</th>\n",
       "      <td>DB00005</td>\n",
       "      <td>DB00072</td>\n",
       "    </tr>\n",
       "  </tbody>\n",
       "</table>\n",
       "</div>"
      ],
      "text/plain": [
       "     Drug1    Drug2\n",
       "0  DB00005  DB00026\n",
       "1  DB00026  DB00005\n",
       "2  DB00005  DB00065\n",
       "3  DB00065  DB00005\n",
       "4  DB00005  DB00072"
      ]
     },
     "execution_count": 4,
     "metadata": {},
     "output_type": "execute_result"
    }
   ],
   "source": [
    "ddi_df = pd.read_csv(\"data/input/ddi_v4.txt\", sep='\\t')\n",
    "ddi_df.head()"
   ]
  },
  {
   "cell_type": "code",
   "execution_count": 5,
   "metadata": {},
   "outputs": [],
   "source": [
    "featureFilename = \"vectors/DB/RDF2Vec_sg_200_5_5_15_2_500_d5_uniform.txt\"\n",
    "embedding_df = pd.read_csv(featureFilename, delimiter='\\t') \n",
    "embedding_df.Entity =embedding_df.Entity.str[-8:-1]\n",
    "embedding_df.rename(columns={'Entity':'Drug'}, inplace=True)"
   ]
  },
  {
   "cell_type": "code",
   "execution_count": 6,
   "metadata": {},
   "outputs": [],
   "source": [
    "pairs, classes = ml.generatePairs(ddi_df, embedding_df)"
   ]
  },
  {
   "cell_type": "code",
   "execution_count": 7,
   "metadata": {},
   "outputs": [],
   "source": [
    "nb_model = GaussianNB()\n",
    "lr_model = linear_model.LogisticRegression()\n",
    "rf_model = ensemble.RandomForestClassifier(n_estimators=200, n_jobs=-1)\n",
    "\n",
    "#clfs = [('Naive Bayes',nb_model),('Logistic Regression',lr_model),('Random Forest',rf_model)]\n",
    "clfs = [('Random Forest',rf_model)]"
   ]
  },
  {
   "cell_type": "code",
   "execution_count": 8,
   "metadata": {},
   "outputs": [
    {
     "name": "stdout",
     "output_type": "stream",
     "text": [
      "+/-: 47077 47077 1015076\n",
      "run 0\n"
     ]
    },
    {
     "name": "stderr",
     "output_type": "stream",
     "text": [
      "23/09/05 11:12:39 WARN TaskSetManager: Stage 0 contains a task of very large size (7363 KiB). The maximum recommended task size is 1000 KiB.\n",
      "84738 9416                                                          (0 + 1) / 1]\n",
      "84738 9416\n",
      "84738 9416\n",
      "84738 9416                                                          (0 + 1) / 1]\n",
      "84739 9415\n",
      "84739 9415                                                          (0 + 1) / 1]\n",
      "84739 9415\n",
      "84739 9415                                                          (0 + 1) / 1]\n",
      "84739 9415\n",
      "84739 9415                                                          (0 + 1) / 1]\n",
      "23/09/05 11:17:14 WARN TaskSetManager: Stage 1 contains a task of very large size (7363 KiB). The maximum recommended task size is 1000 KiB.\n",
      "84738 9416\n"
     ]
    },
    {
     "name": "stdout",
     "output_type": "stream",
     "text": [
      "+/-: 47077 47077 1015076\n",
      "run 1\n"
     ]
    },
    {
     "name": "stderr",
     "output_type": "stream",
     "text": [
      "84738 9416                                                          (0 + 1) / 1]\n",
      "84738 9416\n",
      "84738 9416                                                          (0 + 1) / 1]\n",
      "84739 9415\n",
      "84739 9415                                                          (0 + 1) / 1]\n",
      "84739 9415\n",
      "84739 9415                                                          (0 + 1) / 1]\n",
      "84739 9415\n",
      "84739 9415                                                          (0 + 1) / 1]\n",
      "23/09/05 11:21:55 WARN TaskSetManager: Stage 2 contains a task of very large size (7363 KiB). The maximum recommended task size is 1000 KiB.\n"
     ]
    },
    {
     "name": "stdout",
     "output_type": "stream",
     "text": [
      "+/-: 47077 47077 1015076\n",
      "run 2\n"
     ]
    },
    {
     "name": "stderr",
     "output_type": "stream",
     "text": [
      "84738 9416\n",
      "84738 9416                                                          (0 + 1) / 1]\n",
      "84738 9416\n",
      "84738 9416                                                          (0 + 1) / 1]\n",
      "84739 9415\n",
      "84739 9415                                                          (0 + 1) / 1]\n",
      "84739 9415\n",
      "84739 9415                                                          (0 + 1) / 1]\n",
      "84739 9415\n",
      "84739 9415                                                          (0 + 1) / 1]\n",
      "23/09/05 11:26:24 WARN TaskSetManager: Stage 3 contains a task of very large size (7363 KiB). The maximum recommended task size is 1000 KiB.\n",
      "84738 9416\n"
     ]
    },
    {
     "name": "stdout",
     "output_type": "stream",
     "text": [
      "+/-: 47077 47077 1015076\n",
      "run 3\n"
     ]
    },
    {
     "name": "stderr",
     "output_type": "stream",
     "text": [
      "84738 9416                                                          (0 + 1) / 1]\n",
      "84738 9416\n",
      "84738 9416                                                          (0 + 1) / 1]\n",
      "84739 9415\n",
      "84739 9415                                                          (0 + 1) / 1]\n",
      "84739 9415\n",
      "84739 9415                                                          (0 + 1) / 1]\n",
      "84739 9415\n",
      "84739 9415                                                          (0 + 1) / 1]\n",
      "23/09/05 11:30:53 WARN TaskSetManager: Stage 4 contains a task of very large size (7363 KiB). The maximum recommended task size is 1000 KiB.\n",
      "84738 9416\n"
     ]
    },
    {
     "name": "stdout",
     "output_type": "stream",
     "text": [
      "+/-: 47077 47077 1015076\n",
      "run 4\n"
     ]
    },
    {
     "name": "stderr",
     "output_type": "stream",
     "text": [
      "84738 9416                                                          (0 + 1) / 1]\n",
      "84738 9416\n",
      "84738 9416                                                          (0 + 1) / 1]\n",
      "84739 9415\n",
      "84739 9415                                                          (0 + 1) / 1]\n",
      "84739 9415\n",
      "84739 9415                                                          (0 + 1) / 1]\n",
      "84739 9415\n",
      "84739 9415                                                          (0 + 1) / 1]\n",
      "                                                                                \r"
     ]
    }
   ],
   "source": [
    "n_seed =100\n",
    "n_fold = 10\n",
    "n_run = 5\n",
    "n_proportion = 1\n",
    "all_scores_df = ml.kfoldCV(sc, pairs, classes, embedding_df, clfs, n_run, n_fold, n_proportion, n_seed)\n"
   ]
  },
  {
   "cell_type": "code",
   "execution_count": null,
   "metadata": {},
   "outputs": [],
   "source": [
    "agg_df = all_scores_df.groupby(['method','run']).mean().groupby('method').mean()\n",
    "\n"
   ]
  },
  {
   "cell_type": "code",
   "execution_count": null,
   "metadata": {},
   "outputs": [],
   "source": [
    "agg_df.to_csv('results/traditional/DB4_TCV_run_sg.csv',sep=',', index=False)"
   ]
  },
  {
   "cell_type": "markdown",
   "metadata": {},
   "source": [
    "# TWOSIDES "
   ]
  },
  {
   "cell_type": "code",
   "execution_count": null,
   "metadata": {},
   "outputs": [],
   "source": [
    "ddi_df = pd.read_csv(\"data/input/ddi_twosides.txt\", sep='\\t')\n",
    "ddi_df.head()"
   ]
  },
  {
   "cell_type": "code",
   "execution_count": null,
   "metadata": {},
   "outputs": [],
   "source": [
    "len(ddi_df)"
   ]
  },
  {
   "cell_type": "code",
   "execution_count": null,
   "metadata": {},
   "outputs": [],
   "source": [
    "len( set(ddi_df.Drug1.unique()).union(ddi_df.Drug2.unique()) )"
   ]
  },
  {
   "cell_type": "code",
   "execution_count": null,
   "metadata": {},
   "outputs": [],
   "source": [
    "featureFilename = \"vectors/DB/RDF2Vec_sg_200_5_5_15_2_500_d5_uniform.txt\"\n",
    "embedding_df = pd.read_csv(featureFilename, delimiter='\\t') \n",
    "embedding_df.Entity =embedding_df.Entity.str[-8:-1]\n",
    "embedding_df.rename(columns={'Entity':'Drug'}, inplace=True)"
   ]
  },
  {
   "cell_type": "code",
   "execution_count": null,
   "metadata": {},
   "outputs": [],
   "source": [
    "pairs, classes = ml.generatePairs(ddi_df, embedding_df)"
   ]
  },
  {
   "cell_type": "code",
   "execution_count": null,
   "metadata": {},
   "outputs": [],
   "source": [
    "n_seed =100\n",
    "n_fold =10 \n",
    "n_run =10 \n",
    "n_proportion = 1,\n",
    "all_scores_df = ml.kfoldCV(sc, pairs, classes, embedding_df, clfs, n_run, n_fold, n_proportion, n_seed)"
   ]
  },
  {
   "cell_type": "code",
   "execution_count": null,
   "metadata": {},
   "outputs": [],
   "source": [
    "all_scores_df.groupby(['method','run']).mean().groupby('method').mean()"
   ]
  },
  {
   "cell_type": "code",
   "execution_count": null,
   "metadata": {},
   "outputs": [],
   "source": [
    "all_scores_df.to_csv('results/traditional/TWOSIDES_TCV_run_sg.csv',sep=',', index=False)"
   ]
  },
  {
   "cell_type": "markdown",
   "metadata": {},
   "source": [
    "# KEGG"
   ]
  },
  {
   "cell_type": "code",
   "execution_count": null,
   "metadata": {},
   "outputs": [],
   "source": [
    "ddi_df = pd.read_csv(\"data/input/ddi_kegg.txt\", sep='\\t')\n",
    "ddi_df.head()"
   ]
  },
  {
   "cell_type": "code",
   "execution_count": null,
   "metadata": {},
   "outputs": [],
   "source": [
    "len(ddi_df)"
   ]
  },
  {
   "cell_type": "code",
   "execution_count": null,
   "metadata": {},
   "outputs": [],
   "source": [
    "len( set(ddi_df.Drug1.unique()).union(ddi_df.Drug2.unique()) )"
   ]
  },
  {
   "cell_type": "code",
   "execution_count": null,
   "metadata": {},
   "outputs": [],
   "source": [
    "featureFilename = \"vectors/DB/RDF2Vec_sg_200_5_5_15_2_500_d5_uniform.txt\"\n",
    "embedding_df = pd.read_csv(featureFilename, delimiter='\\t') \n",
    "embedding_df.Entity =embedding_df.Entity.str[-8:-1]\n",
    "embedding_df.rename(columns={'Entity':'Drug'}, inplace=True)"
   ]
  },
  {
   "cell_type": "code",
   "execution_count": null,
   "metadata": {},
   "outputs": [],
   "source": [
    "pairs, classes = ml.generatePairs(ddi_df, embedding_df)"
   ]
  },
  {
   "cell_type": "code",
   "execution_count": null,
   "metadata": {},
   "outputs": [],
   "source": [
    "n_seed =100\n",
    "n_fold =10 \n",
    "n_run =10 \n",
    "n_proportion = 1,\n",
    "all_scores_df = ml.kfoldCV(sc, pairs, classes, embedding_df, clfs, n_run, n_fold, n_proportion, n_seed)"
   ]
  },
  {
   "cell_type": "code",
   "execution_count": null,
   "metadata": {},
   "outputs": [],
   "source": [
    "all_scores_df.groupby(['method','run']).mean().groupby('method').mean()"
   ]
  },
  {
   "cell_type": "code",
   "execution_count": null,
   "metadata": {},
   "outputs": [],
   "source": [
    "all_scores_df.to_csv('results/traditional/KEGG_TCV_run_sg.csv',sep=',', index=False)"
   ]
  },
  {
   "cell_type": "markdown",
   "metadata": {},
   "source": [
    "# Drugbank 5"
   ]
  },
  {
   "cell_type": "code",
   "execution_count": null,
   "metadata": {},
   "outputs": [],
   "source": [
    "ddi_df = pd.read_csv(\"data/input/ddi_v5.txt\", sep='\\t')\n",
    "ddi_df.head()"
   ]
  },
  {
   "cell_type": "code",
   "execution_count": null,
   "metadata": {},
   "outputs": [],
   "source": [
    "featureFilename = \"vectors/DB/RDF2Vec_sg_200_5_5_15_2_500_d5_uniform.txt\"\n",
    "embedding_df = pd.read_csv(featureFilename, delimiter='\\t') \n",
    "embedding_df.Entity =embedding_df.Entity.str[-8:-1]\n",
    "embedding_df.rename(columns={'Entity':'Drug'}, inplace=True)"
   ]
  },
  {
   "cell_type": "code",
   "execution_count": null,
   "metadata": {},
   "outputs": [],
   "source": [
    "len(ddi_df)"
   ]
  },
  {
   "cell_type": "code",
   "execution_count": null,
   "metadata": {},
   "outputs": [],
   "source": [
    "len( set(ddi_df.Drug1.unique()).union(ddi_df.Drug2.unique()) )"
   ]
  },
  {
   "cell_type": "code",
   "execution_count": null,
   "metadata": {},
   "outputs": [],
   "source": [
    "pairs, classes = ml.generatePairs(ddi_df, embedding_df)"
   ]
  },
  {
   "cell_type": "code",
   "execution_count": null,
   "metadata": {},
   "outputs": [],
   "source": [
    "nb_model = GaussianNB()\n",
    "logistic_model = linear_model.LogisticRegression(C=0.01)\n",
    "rf_model = ensemble.RandomForestClassifier(n_estimators=200, n_jobs=-1)\n",
    "clfs = [('Naive Bayes',nb_model),('Logistic Regression',lr_model),('Random Forest',rf_model)]"
   ]
  },
  {
   "cell_type": "code",
   "execution_count": null,
   "metadata": {},
   "outputs": [],
   "source": [
    "n_seed =100\n",
    "n_fold =10 \n",
    "n_run =10 \n",
    "n_proportion = 1,\n",
    "all_scores_df = ml.kfoldCV(sc, pairs, classes, embedding_df, clfs, n_run, n_fold, n_proportion, n_seed)"
   ]
  },
  {
   "cell_type": "code",
   "execution_count": null,
   "metadata": {},
   "outputs": [],
   "source": [
    "all_scores_df.groupby(['method','run']).mean().groupby('method').mean()"
   ]
  },
  {
   "cell_type": "code",
   "execution_count": null,
   "metadata": {},
   "outputs": [],
   "source": [
    "all_scores_df.to_csv('results/traditional/DBv5_TCV_run_sg.csv',sep=',', index=False)"
   ]
  },
  {
   "cell_type": "markdown",
   "metadata": {},
   "source": [
    "# Drugbankv5 - RDF2Vec CBOW "
   ]
  },
  {
   "cell_type": "code",
   "execution_count": null,
   "metadata": {},
   "outputs": [],
   "source": [
    "featureFilename = \"vectors/DB/RDF2Vec_cbow_200_5_5_2_500_d5_uniform.txt\"\n",
    "embedding_df = pd.read_csv(featureFilename, delimiter='\\t') \n",
    "embedding_df.Entity =embedding_df.Entity.str[-8:-1]\n",
    "embedding_df.rename(columns={'Entity':'Drug'}, inplace=True)"
   ]
  },
  {
   "cell_type": "code",
   "execution_count": null,
   "metadata": {},
   "outputs": [],
   "source": [
    "pairs, classes = ml.generatePairs(ddi_df, embedding_df)"
   ]
  },
  {
   "cell_type": "code",
   "execution_count": null,
   "metadata": {},
   "outputs": [],
   "source": [
    "nb_model = GaussianNB()\n",
    "logistic_model = linear_model.LogisticRegression(C=0.01)\n",
    "rf_model = ensemble.RandomForestClassifier(n_estimators=200, n_jobs=-1)\n",
    "clfs = [('Naive Bayes',nb_model),('Logistic Regression',lr_model),('Random Forest',rf_model)]"
   ]
  },
  {
   "cell_type": "code",
   "execution_count": null,
   "metadata": {},
   "outputs": [],
   "source": [
    "n_seed =100\n",
    "n_fold =10 \n",
    "n_run =10 \n",
    "n_proportion = 1,\n",
    "all_scores_df = ml.kfoldCV(sc, pairs, classes, embedding_df, clfs, n_run, n_fold, n_proportion, n_seed)"
   ]
  },
  {
   "cell_type": "code",
   "execution_count": null,
   "metadata": {},
   "outputs": [],
   "source": [
    "all_scores_df.groupby(['method','run']).mean().groupby('method').mean()"
   ]
  },
  {
   "cell_type": "code",
   "execution_count": null,
   "metadata": {},
   "outputs": [],
   "source": [
    "all_scores_df.to_csv('results/traditional/DBv5_TCV_run_cbow.csv',sep=',', index=False)"
   ]
  },
  {
   "cell_type": "markdown",
   "metadata": {},
   "source": [
    "# Drugbankv5 - TransE"
   ]
  },
  {
   "cell_type": "code",
   "execution_count": null,
   "metadata": {},
   "outputs": [],
   "source": [
    "featureFilename = \"vectors/DB/TransE_DRUGBANK_d_100.txt\"\n",
    "embedding_df = pd.read_csv(featureFilename, delimiter='\\t') "
   ]
  },
  {
   "cell_type": "code",
   "execution_count": null,
   "metadata": {},
   "outputs": [],
   "source": [
    "pairs, classes = ml.generatePairs(ddi_df, embedding_df)"
   ]
  },
  {
   "cell_type": "code",
   "execution_count": null,
   "metadata": {},
   "outputs": [],
   "source": [
    "n_seed =100\n",
    "n_fold =10 \n",
    "n_run =10 \n",
    "n_proportion = 1,\n",
    "all_scores_df = ml.kfoldCV(sc, pairs, classes, embedding_df, clfs, n_run, n_fold, n_proportion, n_seed)"
   ]
  },
  {
   "cell_type": "code",
   "execution_count": null,
   "metadata": {},
   "outputs": [],
   "source": [
    "all_scores_df.groupby(['method','run']).mean().groupby('method').mean()"
   ]
  },
  {
   "cell_type": "code",
   "execution_count": null,
   "metadata": {},
   "outputs": [],
   "source": [
    "all_scores_df.to_csv('results/traditional/DBv5_TCV_run_transe.csv',sep=',', index=False)"
   ]
  },
  {
   "cell_type": "markdown",
   "metadata": {},
   "source": [
    "# Drugbankv5 - TransD"
   ]
  },
  {
   "cell_type": "code",
   "execution_count": null,
   "metadata": {},
   "outputs": [],
   "source": [
    "featureFilename = \"vectors/DB/TransD_DRUGBANK_d_100.txt\"\n",
    "embedding_df = pd.read_csv(featureFilename, delimiter='\\t') "
   ]
  },
  {
   "cell_type": "code",
   "execution_count": null,
   "metadata": {},
   "outputs": [],
   "source": [
    "pairs, classes = ml.generatePairs(ddi_df, embedding_df)"
   ]
  },
  {
   "cell_type": "code",
   "execution_count": null,
   "metadata": {},
   "outputs": [],
   "source": [
    "n_seed =100\n",
    "n_fold =10 \n",
    "n_run =10 \n",
    "n_proportion = 1,\n",
    "all_scores_df = ml.kfoldCV(sc, pairs, classes, embedding_df, clfs, n_run, n_fold, n_proportion, n_seed)"
   ]
  },
  {
   "cell_type": "code",
   "execution_count": null,
   "metadata": {},
   "outputs": [],
   "source": [
    "all_scores_df.groupby(['method','run']).mean().groupby('method').mean()"
   ]
  },
  {
   "cell_type": "code",
   "execution_count": null,
   "metadata": {},
   "outputs": [],
   "source": [
    "all_scores_df.to_csv('results/traditional/DBv5_TCV_run_transd.csv',sep=',', index=False)"
   ]
  },
  {
   "cell_type": "code",
   "execution_count": null,
   "metadata": {},
   "outputs": [],
   "source": []
  }
 ],
 "metadata": {
  "kernelspec": {
   "display_name": "Python 3",
   "language": "python",
   "name": "python3"
  },
  "language_info": {
   "codemirror_mode": {
    "name": "ipython",
    "version": 3
   },
   "file_extension": ".py",
   "mimetype": "text/x-python",
   "name": "python",
   "nbconvert_exporter": "python",
   "pygments_lexer": "ipython3",
   "version": "3.8.10"
  }
 },
 "nbformat": 4,
 "nbformat_minor": 2
}
